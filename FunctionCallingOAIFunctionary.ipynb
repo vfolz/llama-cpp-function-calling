{
 "cells": [
  {
   "cell_type": "code",
   "execution_count": 33,
   "id": "5014929f-4def-4a01-aa82-b1de4a4dc770",
   "metadata": {},
   "outputs": [
    {
     "data": {
      "text/plain": [
       "{'id': 'chatcmpl-4ae37bd3-e77c-48d1-9867-b8e0b0e38655',\n",
       " 'choices': [{'finish_reason': 'tool_calls',\n",
       "   'index': 0,\n",
       "   'logprobs': None,\n",
       "   'message': {'content': None,\n",
       "    'role': 'assistant',\n",
       "    'function_call': {'arguments': '{\"location\": \"San Francisco, CA\", \"unit\": \"celsius\"}',\n",
       "     'name': 'get_current_weather'},\n",
       "    'tool_calls': [{'id': 'call_dfSM0JanGEVSvw19MlStE6Xi',\n",
       "      'function': {'arguments': '{\"location\": \"San Francisco, CA\", \"unit\": \"celsius\"}',\n",
       "       'name': 'get_current_weather'},\n",
       "      'type': 'function'},\n",
       "     {'id': 'call_FyMpPdDyAcv2HNBtQxWf1Jaw',\n",
       "      'function': {'arguments': '{\"location\": \"Tokyo, Japan\", \"unit\": \"celsius\"}',\n",
       "       'name': 'get_current_weather'},\n",
       "      'type': 'function'},\n",
       "     {'id': 'call_jDGQBaRLDkVtmZWSDaNMOnD9',\n",
       "      'function': {'arguments': '{\"location\": \"Paris, France\", \"unit\": \"celsius\"}',\n",
       "       'name': 'get_current_weather'},\n",
       "      'type': 'function'}]}}],\n",
       " 'created': 1711429235,\n",
       " 'model': 'gpt-3.5-turbo-1106',\n",
       " 'object': 'chat.completion',\n",
       " 'system_fingerprint': None,\n",
       " 'usage': {'completion_tokens': 1, 'prompt_tokens': 254, 'total_tokens': 255}}"
      ]
     },
     "execution_count": 33,
     "metadata": {},
     "output_type": "execute_result"
    }
   ],
   "source": [
    "import openai\n",
    "import json\n",
    "\n",
    "client = openai.OpenAI(\n",
    "    api_key = \"sk-xxxxxxxxxxxxxxxxxxxxxxxxxxxxxxxxxxxxxxxx\", #Actual OpenAI Api\n",
    "    base_url = \"http://192.168.1.10:8000/v1\" #OpenAI Endpoint\n",
    ")\n",
    "\n",
    "messages = [{\"role\": \"user\", \"content\": \"What's the weather like in San Francisco, Tokyo, and Paris?\"}]\n",
    "tools = [\n",
    "    {\n",
    "        \"type\": \"function\",\n",
    "        \"function\": {\n",
    "            \"name\": \"get_current_weather\",\n",
    "            \"description\": \"Get the current weather in a given location\",\n",
    "            \"parameters\": {\n",
    "                \"type\": \"object\",\n",
    "                \"properties\": {\n",
    "                    \"location\": {\n",
    "                        \"type\": \"string\",\n",
    "                        \"description\": \"The city and state, e.g. San Francisco, CA\",\n",
    "                    },\n",
    "                    \"unit\": {\"type\": \"string\", \"enum\": [\"celsius\", \"fahrenheit\"]},\n",
    "                },\n",
    "                \"required\": [\"location\"],\n",
    "            },\n",
    "        },\n",
    "    }\n",
    "]\n",
    "response = client.chat.completions.create(\n",
    "    model=\"gpt-3.5-turbo-1106\",\n",
    "    messages=messages,\n",
    "    tools=tools,\n",
    "    tool_choice=\"auto\",  # auto is default, but we'll be explicit\n",
    ")\n",
    "\n",
    "\n",
    "response.dict()\n",
    " "
   ]
  },
  {
   "cell_type": "code",
   "execution_count": 35,
   "id": "b96d3766-c9e3-462b-937b-ad1b835d538a",
   "metadata": {},
   "outputs": [
    {
     "data": {
      "text/plain": [
       "{'id': 'chatcmpl-96tM2tbnxe8HMukmhgOZaXt5FpNUh',\n",
       " 'choices': [{'finish_reason': 'tool_calls',\n",
       "   'index': 0,\n",
       "   'logprobs': None,\n",
       "   'message': {'content': None,\n",
       "    'role': 'assistant',\n",
       "    'function_call': None,\n",
       "    'tool_calls': [{'id': 'call_Y78khXuXpZQTfYNEfudGXueA',\n",
       "      'function': {'arguments': '{\"location\": \"San Francisco\"}',\n",
       "       'name': 'get_current_weather'},\n",
       "      'type': 'function'},\n",
       "     {'id': 'call_OPZM516eZbiC89qQBbBc4ZFp',\n",
       "      'function': {'arguments': '{\"location\": \"Tokyo\"}',\n",
       "       'name': 'get_current_weather'},\n",
       "      'type': 'function'},\n",
       "     {'id': 'call_4AE4ZXnOZrxtSUTLXryT16vM',\n",
       "      'function': {'arguments': '{\"location\": \"Paris\"}',\n",
       "       'name': 'get_current_weather'},\n",
       "      'type': 'function'}]}}],\n",
       " 'created': 1711429778,\n",
       " 'model': 'gpt-3.5-turbo-1106',\n",
       " 'object': 'chat.completion',\n",
       " 'system_fingerprint': 'fp_89448ee5dc',\n",
       " 'usage': {'completion_tokens': 62, 'prompt_tokens': 88, 'total_tokens': 150}}"
      ]
     },
     "execution_count": 35,
     "metadata": {},
     "output_type": "execute_result"
    }
   ],
   "source": [
    "import openai\n",
    "import json\n",
    "\n",
    "\n",
    "client = openai.OpenAI(\n",
    "    api_key = \"\", # can be anything\n",
    "    base_url = \"https://api.openai.com/v1\" # NOTE: Replace with IP address and port of your llama-cpp-python server\n",
    ")\n",
    "\n",
    "messages = [{\"role\": \"user\", \"content\": \"What's the weather like in San Francisco, Tokyo, and Paris?\"}]\n",
    "tools = [\n",
    "    {\n",
    "        \"type\": \"function\",\n",
    "        \"function\": {\n",
    "            \"name\": \"get_current_weather\",\n",
    "            \"description\": \"Get the current weather in a given location\",\n",
    "            \"parameters\": {\n",
    "                \"type\": \"object\",\n",
    "                \"properties\": {\n",
    "                    \"location\": {\n",
    "                        \"type\": \"string\",\n",
    "                        \"description\": \"The city and state, e.g. San Francisco, CA\",\n",
    "                    },\n",
    "                    \"unit\": {\"type\": \"string\", \"enum\": [\"celsius\", \"fahrenheit\"]},\n",
    "                },\n",
    "                \"required\": [\"location\"],\n",
    "            },\n",
    "        },\n",
    "    }\n",
    "]\n",
    "response = client.chat.completions.create(\n",
    "    model=\"gpt-3.5-turbo-1106\",\n",
    "    messages=messages,\n",
    "    tools=tools,\n",
    "    tool_choice=\"auto\",  # auto is default, but we'll be explicit\n",
    ")\n",
    "\n",
    "\n",
    "response.dict()\n",
    " "
   ]
  },
  {
   "cell_type": "code",
   "execution_count": null,
   "id": "7c12e3ad-9132-4a30-82f5-e221d1bc2154",
   "metadata": {},
   "outputs": [],
   "source": []
  }
 ],
 "metadata": {
  "kernelspec": {
   "display_name": "Python 3 (ipykernel)",
   "language": "python",
   "name": "python3"
  },
  "language_info": {
   "codemirror_mode": {
    "name": "ipython",
    "version": 3
   },
   "file_extension": ".py",
   "mimetype": "text/x-python",
   "name": "python",
   "nbconvert_exporter": "python",
   "pygments_lexer": "ipython3",
   "version": "3.11.7"
  }
 },
 "nbformat": 4,
 "nbformat_minor": 5
}
